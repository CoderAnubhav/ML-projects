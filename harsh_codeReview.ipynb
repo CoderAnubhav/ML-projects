{
 "cells": [
  {
   "cell_type": "code",
   "execution_count": 7,
   "metadata": {},
   "outputs": [
    {
     "name": "stdout",
     "output_type": "stream",
     "text": [
      "1\n",
      "10\n",
      "2 2 2 2 2 0 0 0 0 0\n",
      "20\n"
     ]
    }
   ],
   "source": [
    "def nCr(n, r): \n",
    "  \n",
    "    return (fact(n) / (fact(r)  \n",
    "                * fact(n - r))) \n",
    "  \n",
    "# Returns factorial of n \n",
    "def fact(n): \n",
    "  \n",
    "    res = 1\n",
    "      \n",
    "    for i in range(2, n+1): \n",
    "        res = res * i \n",
    "          \n",
    "    return res \n",
    "\n",
    "\n",
    "t=int(input())\n",
    "while t>0:\n",
    "    n=int(input())\n",
    "    a=[]\n",
    "    notwo,nozero=0,0\n",
    "    num=[int(i) for i in input().split(\" \")]\n",
    "    for i in num:\n",
    "        if i==2:\n",
    "            notwo+=1\n",
    "        elif i==0:\n",
    "            nozero+=1\n",
    "    ans2,ans0=0,0\n",
    "    if notwo>=2:\n",
    "        ans2=nCr(notwo,2)\n",
    "        \n",
    "    if nozero>=2:\n",
    "        ans0=nCr(nozero,2)\n",
    "        \n",
    "    ans=ans2+ans0\n",
    "    print(int(ans))\n",
    "    t-=1\n",
    "    \n",
    "    "
   ]
  },
  {
   "cell_type": "markdown",
   "metadata": {},
   "source": [
    " "
   ]
  },
  {
   "cell_type": "code",
   "execution_count": null,
   "metadata": {},
   "outputs": [],
   "source": []
  },
  {
   "cell_type": "code",
   "execution_count": null,
   "metadata": {},
   "outputs": [],
   "source": []
  }
 ],
 "metadata": {
  "kernelspec": {
   "display_name": "Python 3",
   "language": "python",
   "name": "python3"
  },
  "language_info": {
   "codemirror_mode": {
    "name": "ipython",
    "version": 3
   },
   "file_extension": ".py",
   "mimetype": "text/x-python",
   "name": "python",
   "nbconvert_exporter": "python",
   "pygments_lexer": "ipython3",
   "version": "3.7.3"
  }
 },
 "nbformat": 4,
 "nbformat_minor": 2
}
